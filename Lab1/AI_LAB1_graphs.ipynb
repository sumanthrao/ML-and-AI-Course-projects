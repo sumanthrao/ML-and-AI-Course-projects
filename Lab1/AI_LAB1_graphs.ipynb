{
 "cells": [
  {
   "cell_type": "code",
   "execution_count": 1,
   "metadata": {
    "collapsed": false
   },
   "outputs": [
    {
     "name": "stderr",
     "output_type": "stream",
     "text": [
      "Using TensorFlow backend.\n"
     ]
    }
   ],
   "source": [
    "import os\n",
    "import sys\n",
    "import json\n",
    "import numpy as np\n",
    "from sklearn.model_selection import train_test_split\n",
    "import pandas as pd\n",
    "from keras.preprocessing.text import Tokenizer\n",
    "from keras.preprocessing.sequence import pad_sequences\n",
    "from keras.utils import to_categorical\n",
    "from keras.models import Sequential\n",
    "from keras.layers import Dense, LSTM\n",
    "from keras.layers import Dense, Dropout, Activation\n",
    "from keras.layers import Conv1D, MaxPooling1D\n",
    "from keras.layers.embeddings import Embedding\n",
    "from keras.preprocessing import sequence"
   ]
  },
  {
   "cell_type": "code",
   "execution_count": 2,
   "metadata": {
    "collapsed": true
   },
   "outputs": [],
   "source": [
    "from keras import backend as K\n",
    "from sklearn.metrics import precision_recall_fscore_support"
   ]
  },
  {
   "cell_type": "code",
   "execution_count": 45,
   "metadata": {
    "collapsed": false
   },
   "outputs": [],
   "source": [
    "with open(\"pos_amazon_cell_phone_reviews.json\") as f:\n",
    "    data = json.load(f)\n",
    "data = data['root']\n",
    "#print(len(data))\n",
    "df_pos = pd.DataFrame(data)\n",
    "summaries_positive = []\n",
    "text_positive = []\n",
    "for i in data:\n",
    "    summaries_positive.append(i['summary'])\n",
    "    text_positive.append(i['text'])\n",
    "label = [1] * 108664\n",
    "df_pos['label'] = label"
   ]
  },
  {
   "cell_type": "code",
   "execution_count": 86,
   "metadata": {
    "collapsed": true
   },
   "outputs": [],
   "source": [
    "df_pos2 = df_pos[0:5000]"
   ]
  },
  {
   "cell_type": "code",
   "execution_count": 118,
   "metadata": {
    "collapsed": false
   },
   "outputs": [
    {
     "data": {
      "text/plain": [
       "13279"
      ]
     },
     "execution_count": 118,
     "metadata": {},
     "output_type": "execute_result"
    }
   ],
   "source": [
    "with open(\"neg_amazon_cell_phone_reviews.json\") as f:\n",
    "    data = json.load(f)\n",
    "summaries_negative=[]\n",
    "text_negative=[]\n",
    "data = data['root']\n",
    "df_neg = pd.DataFrame(data)\n",
    "for i in data:\n",
    "    summaries_negative.append(i['summary'])\n",
    "    text_negative.append(i['text'])\n",
    "label = [0] * len(data)\n",
    "df_neg['label'] = label\n",
    "len(data)"
   ]
  },
  {
   "cell_type": "code",
   "execution_count": 88,
   "metadata": {
    "collapsed": true
   },
   "outputs": [],
   "source": [
    "df_neg2 = df_neg[:5000]"
   ]
  },
  {
   "cell_type": "code",
   "execution_count": 89,
   "metadata": {
    "collapsed": false
   },
   "outputs": [],
   "source": [
    "df = df_pos2.append(df_neg2)"
   ]
  },
  {
   "cell_type": "code",
   "execution_count": 90,
   "metadata": {
    "collapsed": true
   },
   "outputs": [],
   "source": [
    "seed = 123"
   ]
  },
  {
   "cell_type": "code",
   "execution_count": 91,
   "metadata": {
    "collapsed": false
   },
   "outputs": [],
   "source": [
    "X = df.iloc[:,:-1]\n",
    "Y = df.iloc[:,-1]\n",
    "X_train, X_test, y_train, y_test = train_test_split(X, Y, test_size=0.2, random_state=seed)\n",
    "#X_train"
   ]
  },
  {
   "cell_type": "code",
   "execution_count": 92,
   "metadata": {
    "collapsed": true
   },
   "outputs": [],
   "source": [
    "tokenizer = Tokenizer()"
   ]
  },
  {
   "cell_type": "code",
   "execution_count": 93,
   "metadata": {
    "collapsed": true
   },
   "outputs": [],
   "source": [
    "summary = list(X_train['summary'])\n",
    "summary_test = list(X_test['summary'])"
   ]
  },
  {
   "cell_type": "code",
   "execution_count": 94,
   "metadata": {
    "collapsed": true
   },
   "outputs": [],
   "source": [
    "tokenizer.fit_on_texts(summary)\n",
    "vocab = tokenizer.word_index\n",
    "vocab_counts = tokenizer.word_counts"
   ]
  },
  {
   "cell_type": "code",
   "execution_count": 95,
   "metadata": {
    "collapsed": true
   },
   "outputs": [],
   "source": [
    "sequences = tokenizer.texts_to_sequences(summary)\n",
    "sequences_test = tokenizer.texts_to_sequences(summary_test)"
   ]
  },
  {
   "cell_type": "code",
   "execution_count": 96,
   "metadata": {
    "collapsed": false
   },
   "outputs": [
    {
     "data": {
      "text/plain": [
       "19"
      ]
     },
     "execution_count": 96,
     "metadata": {},
     "output_type": "execute_result"
    }
   ],
   "source": [
    "sequences_test.index(max(sequences_test,key = lambda x : len(x)))\n",
    "len(max(sequences_test,key = lambda x : len(x)))"
   ]
  },
  {
   "cell_type": "code",
   "execution_count": 97,
   "metadata": {
    "collapsed": false
   },
   "outputs": [
    {
     "data": {
      "text/plain": [
       "3426"
      ]
     },
     "execution_count": 97,
     "metadata": {},
     "output_type": "execute_result"
    }
   ],
   "source": [
    "len(vocab)"
   ]
  },
  {
   "cell_type": "code",
   "execution_count": 98,
   "metadata": {
    "collapsed": true
   },
   "outputs": [],
   "source": [
    "pad_length = len(max(sequences, key = lambda x: len(x)))\n",
    "#pad_length = 22"
   ]
  },
  {
   "cell_type": "code",
   "execution_count": 99,
   "metadata": {
    "collapsed": false
   },
   "outputs": [
    {
     "data": {
      "text/plain": [
       "22"
      ]
     },
     "execution_count": 99,
     "metadata": {},
     "output_type": "execute_result"
    }
   ],
   "source": [
    "pad_length"
   ]
  },
  {
   "cell_type": "code",
   "execution_count": 100,
   "metadata": {
    "collapsed": true
   },
   "outputs": [],
   "source": [
    "new_X_train = pad_sequences(sequences, maxlen = pad_length)\n",
    "new_X_test =  pad_sequences(sequences_test, maxlen = pad_length)"
   ]
  },
  {
   "cell_type": "code",
   "execution_count": 101,
   "metadata": {
    "collapsed": false
   },
   "outputs": [
    {
     "data": {
      "text/plain": [
       "array([[   0,    0,    0, ...,    0,    0,  268],\n",
       "       [   0,    0,    0, ..., 1638,   47,   42],\n",
       "       [   0,    0,    0, ...,   36, 1176,  153],\n",
       "       ..., \n",
       "       [   0,    0,    0, ...,    0,   96,  311],\n",
       "       [   0,    0,    0, ...,    5,  446, 1170],\n",
       "       [   0,    0,    0, ..., 3426,  187,  596]])"
      ]
     },
     "execution_count": 101,
     "metadata": {},
     "output_type": "execute_result"
    }
   ],
   "source": [
    "new_X_train"
   ]
  },
  {
   "cell_type": "code",
   "execution_count": 102,
   "metadata": {
    "collapsed": false
   },
   "outputs": [
    {
     "data": {
      "text/plain": [
       "array([0, 0, 1, ..., 0, 1, 1], dtype=int64)"
      ]
     },
     "execution_count": 102,
     "metadata": {},
     "output_type": "execute_result"
    }
   ],
   "source": [
    "y_train.values"
   ]
  },
  {
   "cell_type": "code",
   "execution_count": 103,
   "metadata": {
    "collapsed": false
   },
   "outputs": [
    {
     "data": {
      "text/plain": [
       "array([[   0,    0,    0, ...,    9,    7,    1],\n",
       "       [   0,    0,    0, ...,    0, 2650,   29],\n",
       "       [   0,    0,    0, ...,   49,   23,    5],\n",
       "       ..., \n",
       "       [   0,    0,    0, ...,    0,  415,   32],\n",
       "       [   0,    0,    0, ...,    4,   34,  111],\n",
       "       [   0,    0,    0, ...,    0,    1,   36]])"
      ]
     },
     "execution_count": 103,
     "metadata": {},
     "output_type": "execute_result"
    }
   ],
   "source": [
    "new_X_test"
   ]
  },
  {
   "cell_type": "code",
   "execution_count": 104,
   "metadata": {
    "collapsed": false
   },
   "outputs": [
    {
     "data": {
      "text/plain": [
       "8000"
      ]
     },
     "execution_count": 104,
     "metadata": {},
     "output_type": "execute_result"
    }
   ],
   "source": [
    "new_Y_train = to_categorical(y_train)\n",
    "new_Y_train\n",
    "#len(vocab)\n",
    "len(new_Y_train)"
   ]
  },
  {
   "cell_type": "code",
   "execution_count": 105,
   "metadata": {
    "collapsed": false
   },
   "outputs": [
    {
     "data": {
      "text/plain": [
       "2000"
      ]
     },
     "execution_count": 105,
     "metadata": {},
     "output_type": "execute_result"
    }
   ],
   "source": [
    "new_Y_test = to_categorical(y_test)\n",
    "len(new_Y_test)"
   ]
  },
  {
   "cell_type": "code",
   "execution_count": 106,
   "metadata": {
    "collapsed": true
   },
   "outputs": [],
   "source": [
    "BASE_DIR = ''\n",
    "\n",
    "GLOVE_DIR = os.path.join(BASE_DIR)"
   ]
  },
  {
   "cell_type": "code",
   "execution_count": 107,
   "metadata": {
    "collapsed": false
   },
   "outputs": [],
   "source": [
    "embeddings_index = {}\n",
    "\n",
    "f = open(os.path.join(GLOVE_DIR, 'glove.6B.100d.txt'),encoding='utf8')\n",
    "\n",
    "for line in f:\n",
    "\n",
    "    values = line.split()\n",
    "\n",
    "    word = values[0]\n",
    "\n",
    "    coefs = np.asarray(values[1:], dtype='float32')\n",
    "\n",
    "    embeddings_index[word] = coefs\n",
    "\n",
    "f.close()\n",
    "\n"
   ]
  },
  {
   "cell_type": "code",
   "execution_count": 108,
   "metadata": {
    "collapsed": false
   },
   "outputs": [
    {
     "name": "stdout",
     "output_type": "stream",
     "text": [
      "Found 400000 word vectors.\n"
     ]
    }
   ],
   "source": [
    "print('Found %s word vectors.' % len(embeddings_index))"
   ]
  },
  {
   "cell_type": "code",
   "execution_count": 109,
   "metadata": {
    "collapsed": false
   },
   "outputs": [],
   "source": [
    "# prepare embedding matrix\n",
    "MAX_NB_WORDS = 5000\n",
    "num_words = min(MAX_NB_WORDS, len(vocab) + 1)\n",
    "EMBEDDING_DIM = 100\n",
    "embedding_matrix = np.zeros((num_words, EMBEDDING_DIM))\n",
    "\n",
    "for word, i in vocab.items():\n",
    "\n",
    "    if i >= MAX_NB_WORDS:\n",
    "\n",
    "        continue\n",
    "\n",
    "    embedding_vector = embeddings_index.get(word)\n",
    "\n",
    "    if embedding_vector is not None:\n",
    "\n",
    "        # words not found in embedding index will be all-zeros.\n",
    "\n",
    "        embedding_matrix[i] = embedding_vector"
   ]
  },
  {
   "cell_type": "code",
   "execution_count": 110,
   "metadata": {
    "collapsed": false
   },
   "outputs": [
    {
     "data": {
      "text/plain": [
       "3427"
      ]
     },
     "execution_count": 110,
     "metadata": {},
     "output_type": "execute_result"
    }
   ],
   "source": [
    "num_words"
   ]
  },
  {
   "cell_type": "code",
   "execution_count": null,
   "metadata": {
    "collapsed": true
   },
   "outputs": [],
   "source": []
  },
  {
   "cell_type": "code",
   "execution_count": 111,
   "metadata": {
    "collapsed": true
   },
   "outputs": [],
   "source": [
    "def precision(y_true, y_pred):\n",
    "    \"\"\"Precision metric.\n",
    " \n",
    "    Only computes a batch-wise average of precision.\n",
    " \n",
    "    Computes the precision, a metric for multi-label classification of\n",
    "    how many selected items are relevant.\n",
    "    \"\"\"\n",
    "    true_positives = K.sum(K.round(K.clip(y_true * y_pred, 0, 1)))\n",
    "    predicted_positives = K.sum(K.round(K.clip(y_pred, 0, 1)))\n",
    "    precision = true_positives / (predicted_positives + K.epsilon())\n",
    "    return precision\n",
    " \n",
    "def recall(y_true, y_pred):\n",
    "    \"\"\"Recall metric.\n",
    "    Only computes a batch-wise average of recall.\n",
    "    Computes the recall, a metric for multi-label classification of\n",
    "    how many relevant items are selected.\n",
    "    \"\"\"\n",
    "    true_positives = K.sum(K.round(K.clip(y_true * y_pred, 0, 1)))\n",
    "    possible_positives = K.sum(K.round(K.clip(y_true, 0, 1)))\n",
    "    recall = true_positives / (possible_positives + K.epsilon())\n",
    "    return recall"
   ]
  },
  {
   "cell_type": "markdown",
   "metadata": {},
   "source": [
    "MODEL"
   ]
  },
  {
   "cell_type": "code",
   "execution_count": 112,
   "metadata": {
    "collapsed": false
   },
   "outputs": [],
   "source": [
    "model = Sequential()\n",
    "model.add(Embedding(len(vocab) + 1, 100, input_length=pad_length))\n",
    "model.add(LSTM(256,dropout=0.5,recurrent_dropout=0.2))\n",
    "#model.add(LSTM(128,dropout=0.2,return_sequences=False))\n",
    "model.add(Dense(2,activation='sigmoid'))\n",
    "model.compile(loss='binary_crossentropy', optimizer='adam', metrics=['accuracy', precision, recall])"
   ]
  },
  {
   "cell_type": "code",
   "execution_count": 113,
   "metadata": {
    "collapsed": false
   },
   "outputs": [
    {
     "name": "stdout",
     "output_type": "stream",
     "text": [
      "Train on 6400 samples, validate on 1600 samples\n",
      "Epoch 1/10\n",
      "6400/6400 [==============================] - 30s - loss: 0.4614 - acc: 0.7812 - precision: 0.7819 - recall: 0.7802 - val_loss: 0.2856 - val_acc: 0.8806 - val_precision: 0.8802 - val_recall: 0.8812\n",
      "Epoch 2/10\n",
      "6400/6400 [==============================] - 28s - loss: 0.2356 - acc: 0.9170 - precision: 0.9171 - recall: 0.9169 - val_loss: 0.2583 - val_acc: 0.8966 - val_precision: 0.8958 - val_recall: 0.8975\n",
      "Epoch 3/10\n",
      "6400/6400 [==============================] - 29s - loss: 0.1712 - acc: 0.9416 - precision: 0.9409 - recall: 0.9423 - val_loss: 0.2756 - val_acc: 0.8978 - val_precision: 0.8976 - val_recall: 0.8981\n",
      "Epoch 4/10\n",
      "6400/6400 [==============================] - 28s - loss: 0.1334 - acc: 0.9535 - precision: 0.9535 - recall: 0.9536 - val_loss: 0.2778 - val_acc: 0.8991 - val_precision: 0.8988 - val_recall: 0.8994\n",
      "Epoch 5/10\n",
      "6400/6400 [==============================] - 28s - loss: 0.1101 - acc: 0.9617 - precision: 0.9616 - recall: 0.9619 - val_loss: 0.3259 - val_acc: 0.8988 - val_precision: 0.8988 - val_recall: 0.8988\n",
      "Epoch 6/10\n",
      "6400/6400 [==============================] - 28s - loss: 0.0954 - acc: 0.9682 - precision: 0.9680 - recall: 0.9684 - val_loss: 0.3343 - val_acc: 0.9003 - val_precision: 0.9001 - val_recall: 0.9006\n",
      "Epoch 7/10\n",
      "6400/6400 [==============================] - 31s - loss: 0.0881 - acc: 0.9709 - precision: 0.9711 - recall: 0.9706 - val_loss: 0.3323 - val_acc: 0.8988 - val_precision: 0.8988 - val_recall: 0.8988\n",
      "Epoch 8/10\n",
      "6400/6400 [==============================] - 30s - loss: 0.0802 - acc: 0.9729 - precision: 0.9727 - recall: 0.9731 - val_loss: 0.3388 - val_acc: 0.8991 - val_precision: 0.8988 - val_recall: 0.8994\n",
      "Epoch 9/10\n",
      "6400/6400 [==============================] - 28s - loss: 0.0717 - acc: 0.9761 - precision: 0.9760 - recall: 0.9762 - val_loss: 0.3649 - val_acc: 0.8903 - val_precision: 0.8911 - val_recall: 0.8894\n",
      "Epoch 10/10\n",
      "6400/6400 [==============================] - 29s - loss: 0.0664 - acc: 0.9768 - precision: 0.9765 - recall: 0.9772 - val_loss: 0.3526 - val_acc: 0.8944 - val_precision: 0.8945 - val_recall: 0.8944\n"
     ]
    }
   ],
   "source": [
    "history = model.fit(new_X_train, new_Y_train, validation_split = 0.20, epochs = 10)"
   ]
  },
  {
   "cell_type": "code",
   "execution_count": 119,
   "metadata": {
    "collapsed": false
   },
   "outputs": [
    {
     "name": "stdout",
     "output_type": "stream",
     "text": [
      "Accuracy: 90.83%\n",
      "Precision: 89.86%\n",
      "Recall: 91.85%\n",
      "F-score: 90.85%\n"
     ]
    }
   ],
   "source": [
    "scores = model.evaluate(new_X_test, new_Y_test, verbose=0)\n",
    "print(\"Accuracy: %.2f%%\" % (scores[1]*100))\n",
    "y_pred = model.predict(new_X_test)\n",
    "#y_pred\n",
    "#precision([np.argmax(x) for x in new_Y_test], [np.argmax(x) for x in y_pred])\n",
    "[p, r, f, _] = precision_recall_fscore_support([np.argmax(x) for x in new_Y_test], [np.argmax(x) for x in y_pred], average='binary')\n",
    "#[[int(x[0].round()), int(x[1].round())] for x in y_pred]\n",
    "#new_Y_test\n",
    "#[np.argmax(x) for x in y_pred]\n",
    "print(\"Precision: %.2f%%\" % (p*100))\n",
    "print(\"Recall: %.2f%%\" % (r*100))\n",
    "print(\"F-score: %.2f%%\" % (f*100))"
   ]
  },
  {
   "cell_type": "code",
   "execution_count": 115,
   "metadata": {
    "collapsed": false
   },
   "outputs": [
    {
     "data": {
      "image/png": "[encoded data removed]",
      "text/plain": [
       "<matplotlib.figure.Figure at 0x1a0e3e39828>"
      ]
     },
     "metadata": {},
     "output_type": "display_data"
    }
   ],
   "source": [
    "import matplotlib.pyplot as plt\n",
    "%matplotlib inline\n",
    "plt.plot(history.history['acc'])\n",
    "plt.plot(history.history['val_acc'])\n",
    "plt.title('model accuracy')\n",
    "plt.ylabel('accuracy')\n",
    "plt.xlabel('epoch')\n",
    "plt.legend(['train', 'test'], loc='upper left')\n",
    "plt.show()"
   ]
  },
  {
   "cell_type": "code",
   "execution_count": 116,
   "metadata": {
    "collapsed": false
   },
   "outputs": [
    {
     "data": {
      "image/png": "[encoded data removed]",
      "text/plain": [
       "<matplotlib.figure.Figure at 0x1a0e3e39748>"
      ]
     },
     "metadata": {},
     "output_type": "display_data"
    }
   ],
   "source": [
    "plt.plot(history.history['loss'])\n",
    "plt.plot(history.history['val_loss'])\n",
    "plt.title('model loss')\n",
    "plt.ylabel('loss')\n",
    "plt.xlabel('epoch')\n",
    "plt.legend(['train', 'test'], loc='upper left')\n",
    "plt.show()"
   ]
  },
  {
   "cell_type": "code",
   "execution_count": 84,
   "metadata": {
    "collapsed": false
   },
   "outputs": [
    {
     "data": {
      "text/plain": [
       "array([[ 0,  0,  0,  0,  0,  0,  0,  0,  0,  0,  0,  0,  0,  0,  0,  0,  0,\n",
       "         2, 87,  1, 35, 20]])"
      ]
     },
     "execution_count": 84,
     "metadata": {},
     "output_type": "execute_result"
    }
   ],
   "source": [
    "review = \"Not that great. Don't buy\"\n",
    "review = [review]\n",
    "#print(review)\n",
    "to_check = tokenizer.texts_to_sequences(review)\n",
    "to_check = pad_sequences(to_check, maxlen=pad_length)\n",
    "to_check"
   ]
  },
  {
   "cell_type": "code",
   "execution_count": null,
   "metadata": {
    "collapsed": true
   },
   "outputs": [],
   "source": []
  },
  {
   "cell_type": "code",
   "execution_count": 85,
   "metadata": {
    "collapsed": false
   },
   "outputs": [
    {
     "name": "stdout",
     "output_type": "stream",
     "text": [
      "[[  9.99733031e-01   2.52798200e-04]]\n",
      "Class :  0\n",
      "Negative\n"
     ]
    }
   ],
   "source": [
    "predict_class = model.predict(to_check)\n",
    "print(predict_class)\n",
    "label = np.argmax(predict_class) \n",
    "print(\"Class : \", label)\n",
    "\n",
    "if(label == 1):\n",
    "    print(\"Positive\")\n",
    "else:\n",
    "    print(\"Negative\")\n"
   ]
  },
  {
   "cell_type": "code",
   "execution_count": 39,
   "metadata": {
    "collapsed": false
   },
   "outputs": [
    {
     "name": "stdout",
     "output_type": "stream",
     "text": [
      "_________________________________________________________________\n",
      "Layer (type)                 Output Shape              Param #   \n",
      "=================================================================\n",
      "embedding_2 (Embedding)      (None, 31, 100)           632200    \n",
      "_________________________________________________________________\n",
      "lstm_2 (LSTM)                (None, 256)               365568    \n",
      "_________________________________________________________________\n",
      "dense_2 (Dense)              (None, 2)                 514       \n",
      "=================================================================\n",
      "Total params: 998,282\n",
      "Trainable params: 998,282\n",
      "Non-trainable params: 0\n",
      "_________________________________________________________________\n"
     ]
    }
   ],
   "source": [
    "model.summary()"
   ]
  },
  {
   "cell_type": "code",
   "execution_count": 155,
   "metadata": {
    "collapsed": false
   },
   "outputs": [],
   "source": [
    "# Convolution\n",
    "\n",
    "kernel_size = 5\n",
    "filters = 128\n",
    "pool_size = 4\n",
    "model = Sequential()\n",
    "model.add(Embedding(len(vocab) + 1, 32, input_length=pad_length))\n",
    "model.add(Dropout(0.25))\n",
    "model.add(Conv1D(filters,\n",
    "                 kernel_size,\n",
    "                 padding='valid',\n",
    "                 activation='relu'))\n",
    "model.add(MaxPooling1D(pool_size=pool_size))\n",
    "\n",
    "model.add(LSTM(128))\n",
    "model.add(Dense(2,activation='sigmoid'))\n",
    "model.compile(loss='binary_crossentropy', optimizer='adam', metrics=['accuracy', precision, recall])"
   ]
  },
  {
   "cell_type": "code",
   "execution_count": 152,
   "metadata": {
    "collapsed": false
   },
   "outputs": [
    {
     "name": "stdout",
     "output_type": "stream",
     "text": [
      "Train on 8064 samples, validate on 1536 samples\n",
      "Epoch 1/5\n",
      "8064/8064 [==============================] - 7s - loss: 0.6015 - acc: 0.6272 - precision: 0.6267 - recall: 0.6261 - val_loss: 0.5030 - val_acc: 0.7051 - val_precision: 0.7051 - val_recall: 0.7051\n",
      "Epoch 2/5\n",
      "8064/8064 [==============================] - 5s - loss: 0.4578 - acc: 0.7388 - precision: 0.7388 - recall: 0.7386 - val_loss: 0.4946 - val_acc: 0.7051 - val_precision: 0.7054 - val_recall: 0.7044\n",
      "Epoch 3/5\n",
      "8064/8064 [==============================] - 5s - loss: 0.4083 - acc: 0.7580 - precision: 0.7566 - recall: 0.7609 - val_loss: 0.5124 - val_acc: 0.7155 - val_precision: 0.7155 - val_recall: 0.7155\n",
      "Epoch 4/5\n",
      "8064/8064 [==============================] - 5s - loss: 0.3855 - acc: 0.7675 - precision: 0.7679 - recall: 0.7670 - val_loss: 0.5326 - val_acc: 0.7012 - val_precision: 0.7012 - val_recall: 0.7012\n",
      "Epoch 5/5\n",
      "8064/8064 [==============================] - 5s - loss: 0.3686 - acc: 0.7757 - precision: 0.7755 - recall: 0.7762 - val_loss: 0.5396 - val_acc: 0.7139 - val_precision: 0.7137 - val_recall: 0.7142\n"
     ]
    },
    {
     "data": {
      "text/plain": [
       "<keras.callbacks.History at 0x1c6c3776cf8>"
      ]
     },
     "execution_count": 152,
     "metadata": {},
     "output_type": "execute_result"
    }
   ],
   "source": [
    "model.fit(new_X_train, new_Y_train, validation_split = 0.16, epochs = 5)"
   ]
  },
  {
   "cell_type": "code",
   "execution_count": 120,
   "metadata": {
    "collapsed": true
   },
   "outputs": [],
   "source": [
    "d=[3000,6000,10000,33000]\n",
    "a = [87.45,88.50,90.83,92.00]\n",
    "p= [83.05,90.86,89.86,91.95]\n",
    "r=[89.91,86.47,91.85,94.94]\n",
    "f=[86.34,88.61,90.85,93.42]\n"
   ]
  },
  {
   "cell_type": "code",
   "execution_count": 125,
   "metadata": {
    "collapsed": false
   },
   "outputs": [
    {
     "data": {
      "image/png": "[encoded data removed]",
      "text/plain": [
       "<matplotlib.figure.Figure at 0x1a0ee80e630>"
      ]
     },
     "metadata": {},
     "output_type": "display_data"
    }
   ],
   "source": [
    "\n",
    "# red dashes, blue squares and green triangles\n",
    "plt.plot(d, a , d , p , d , r , d, f,label='accuracy')\n",
    "plt.show()"
   ]
  },
  {
   "cell_type": "code",
   "execution_count": null,
   "metadata": {
    "collapsed": true
   },
   "outputs": [],
   "source": []
  }
 ],
 "metadata": {
  "kernelspec": {
   "display_name": "Python [Root]",
   "language": "python",
   "name": "Python [Root]"
  },
  "language_info": {
   "codemirror_mode": {
    "name": "ipython",
    "version": 3
   },
   "file_extension": ".py",
   "mimetype": "text/x-python",
   "name": "python",
   "nbconvert_exporter": "python",
   "pygments_lexer": "ipython3",
   "version": "3.5.2"
  }
 },
 "nbformat": 4,
 "nbformat_minor": 2
}
